{
 "cells": [
  {
   "cell_type": "markdown",
   "id": "b36f00cf-4846-4079-8d2f-a8403141ae44",
   "metadata": {},
   "source": [
    "# 80. Remove Duplicates from Sorted Array II\n",
    "\n",
    "Given an integer array `nums` sorted in **non-decreasing order**, remove some duplicates [**in-place**](https://en.wikipedia.org/wiki/In-place_algorithm) such that each unique element appears **at most twice**. The **relative order** of the elements should be kept the **same**.\n",
    "\n",
    "Since it is impossible to change the length of the array in some languages, you must instead have the result be placed in the **first part** of the array `nums`. More formally, if there are `k` elements after removing the duplicates, then the first `k` elements of `nums` should hold the final result. It does not matter what you leave beyond the first `k` elements.\n",
    "\n",
    "Return `k` _after placing the final result in the first_ `k` _slots of_ `nums`.\n",
    "\n",
    "Do **not** allocate extra space for another array. You must do this by **modifying the input array [in-place](https://en.wikipedia.org/wiki/In-place_algorithm)** with O(1) extra memory.\n",
    "\n",
    "## Custom Judge\n",
    "\n",
    "The judge will test your solution with the following code:\n",
    "\n",
    "```C\n",
    "int[] nums = [...]; // Input array\n",
    "int[] expectedNums = [...]; // The expected answer with correct length\n",
    "\n",
    "int k = removeDuplicates(nums); // Calls your implementation\n",
    "\n",
    "assert k == expectedNums.length;\n",
    "for (int i = 0; i < k; i++) {\n",
    "    assert nums[i] == expectedNums[i];\n",
    "}\n",
    "```\n",
    "\n",
    "If all assertions pass, then your solution will be **accepted**.\n",
    "\n",
    "### Example 1:\n",
    "\n",
    "**Input:** `nums = [1,1,1,2,2,3]`\n",
    "**Output:** `5, nums = [1,1,2,2,3,_]`\n",
    "**Explanation:** Your function should return k = 5, with the first five elements of nums being 1, 1, 2, 2 and 3 respectively.\n",
    "It does not matter what you leave beyond the returned k (hence they are underscores).\n",
    "\n",
    "### Example 2:\n",
    "\n",
    "**Input:** `nums = [0,0,1,1,1,1,2,3,3]`\n",
    "**Output:** `7, nums = [0,0,1,1,2,3,3,_,_]`\n",
    "**Explanation:** Your function should return k = 7, with the first seven elements of nums being 0, 0, 1, 1, 2, 3 and 3 respectively.\n",
    "It does not matter what you leave beyond the returned k (hence they are underscores).\n",
    "\n",
    "## Constraints:\n",
    "\n",
    "- `1 <= nums.length <= 3 * 104`\n",
    "- `-104 <= nums[i] <= 104`\n",
    "- `nums` is sorted in **non-decreasing** order."
   ]
  },
  {
   "cell_type": "markdown",
   "id": "674aeef7-8735-4cf1-a8a0-f55cd0c93d13",
   "metadata": {},
   "source": [
    "## Program"
   ]
  },
  {
   "cell_type": "code",
   "execution_count": 13,
   "id": "8b4ae1d9-8103-45fc-9360-70086c1120d1",
   "metadata": {},
   "outputs": [],
   "source": [
    "import math\n",
    "\n",
    "# Solution code\n",
    "class Solution:\n",
    "    def removeDuplicates(self, nums):\n",
    "        result = nums[:1]\n",
    "        count = 1\n",
    "        for num in nums[1:]:\n",
    "            if num == result[-1]:\n",
    "                count += 1\n",
    "                if count < 3:\n",
    "                    result.append(num)\n",
    "                continue\n",
    "            else:\n",
    "                result.append(num)\n",
    "                count = 1\n",
    "        nums[:] = result[:]\n",
    "        return len(result)"
   ]
  },
  {
   "cell_type": "code",
   "execution_count": 30,
   "id": "8ed8ca57-540c-4837-b097-c1565682ae25",
   "metadata": {},
   "outputs": [],
   "source": [
    "# fast solution\n",
    "\n",
    "# ref: https://leetcode.com/problems/remove-duplicates-from-sorted-array-ii/solutions/4804983/beats-100-0ms-advanced-two-pointer-approach-java-c-python-rust\n",
    "\n",
    "\n",
    "class Solution:\n",
    "    def removeDuplicates(self, nums):\n",
    "        if len(nums) < 2:\n",
    "            return len(nums)\n",
    "        j = 2\n",
    "        for i in range(1, len(nums)):\n",
    "            if nums[i] != nums[j - 2]:\n",
    "                nums[j] = nums[i]\n",
    "                j += 1\n",
    "        return j"
   ]
  },
  {
   "cell_type": "markdown",
   "id": "2863bc72-ca44-4d7a-a245-f760484ffacd",
   "metadata": {},
   "source": [
    "## test case"
   ]
  },
  {
   "cell_type": "code",
   "execution_count": 31,
   "id": "f4f0d38b-0a88-4ba0-b7c2-53e3ce1fa7a8",
   "metadata": {},
   "outputs": [
    {
     "name": "stdout",
     "output_type": "stream",
     "text": [
      "✅ Test passed for input: ([[0]], 1)\n",
      "✅ Test passed for input: ([[0, 1, 1, 2, 2, 3, 3]], 6)\n",
      "✅ Test passed for input: ([[0, 0, 1, 1, 2, 3, 3, 3, 3]], 7)\n"
     ]
    }
   ],
   "source": [
    "# Test cases\n",
    "test_cases = [\n",
    "    ([[0]], [0]),\n",
    "    ([[0,1,1,1,2,2,3]], [0,1,1,2,2,3]),\n",
    "    ([[0,0,1,1,1,1,2,3,3]], [0,0,1,1,2,3,3]),\n",
    "]\n",
    "\n",
    "# Testing logic\n",
    "solution = Solution()\n",
    "for inputs, expected_output in test_cases:\n",
    "    k = solution.removeDuplicates(*inputs)\n",
    "    output = inputs[0]\n",
    "    if output[:k] == expected_output:\n",
    "        print(f\"✅ Test passed for input: {inputs, k}\")\n",
    "    else:\n",
    "        print(f\"❌ Test failed for input: {inputs}.\\n    Expected: {expected_output}, got: {output}\")"
   ]
  },
  {
   "cell_type": "code",
   "execution_count": 11,
   "id": "ef0a76cd-bc92-43d3-a84c-36d4c238034a",
   "metadata": {},
   "outputs": [],
   "source": [
    "import math\n",
    "\n",
    "nums = [0,0,0,1,1,1,1,2,3,3]\n",
    "\n",
    "c\n",
    "            "
   ]
  },
  {
   "cell_type": "code",
   "execution_count": 12,
   "id": "857db78b-3b51-4af6-8354-f66c2144d915",
   "metadata": {},
   "outputs": [
    {
     "data": {
      "text/plain": [
       "[0, 0, 1, 1, 2, 3, 3]"
      ]
     },
     "execution_count": 12,
     "metadata": {},
     "output_type": "execute_result"
    }
   ],
   "source": [
    "result"
   ]
  }
 ],
 "metadata": {
  "kernelspec": {
   "display_name": "Python 3 (ipykernel)",
   "language": "python",
   "name": "python3"
  },
  "language_info": {
   "codemirror_mode": {
    "name": "ipython",
    "version": 3
   },
   "file_extension": ".py",
   "mimetype": "text/x-python",
   "name": "python",
   "nbconvert_exporter": "python",
   "pygments_lexer": "ipython3",
   "version": "3.11.11"
  }
 },
 "nbformat": 4,
 "nbformat_minor": 5
}
