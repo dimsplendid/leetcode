{
 "cells": [
  {
   "cell_type": "markdown",
   "id": "4cdddc90-dfb5-4367-8fa5-3ddfb20cad73",
   "metadata": {},
   "source": [
    "---\n",
    "\n",
    "level: Medium\n",
    "\n",
    "---\n",
    "\n",
    "# Jump Game II\n",
    "\n",
    "You are given a 0-indexed array of integers `nums` of length `n`. You are initially positioned at `nums[0]`.\n",
    "\n",
    "Each element `nums[i]` represents the maximum length of a forward jump from index `i`. In other words, if you are at `nums[i]`, you can jump to any `nums[i + j]` where:\n",
    "\n",
    "- `0 <= j <= nums[i]` and\n",
    "- `i + j < n`\n",
    "Return _the minimum number of jumps_ to reach `nums[n - 1]`. The test cases are generated such that you can reach `nums[n - 1]`.\n",
    "\n",
    " \n",
    "## Examples\n",
    "\n",
    "**Example 1:**\n",
    "\n",
    "Input: nums = [2,3,1,1,4]\n",
    "Output: 2\n",
    "Explanation: The minimum number of jumps to reach the last index is 2. Jump 1 step from index 0 to 1, then 3 steps to the last index.\n",
    "\n",
    "**Example 2:**\n",
    "\n",
    "Input: nums = [2,3,0,1,4]\n",
    "Output: 2\n",
    "\n",
    "## Constraints:\n",
    "\n",
    "- $1 \\le \\texttt{nums.length} \\le 10^4$\n",
    "- $0 \\le \\texttt{nums[i]} \\le 1000$\n",
    "- It's guaranteed that you can reach `nums[n-1]`"
   ]
  },
  {
   "cell_type": "code",
   "execution_count": 30,
   "id": "6def7104-15f0-40e0-b85a-c627881176a4",
   "metadata": {},
   "outputs": [
    {
     "name": "stdout",
     "output_type": "stream",
     "text": [
      "-3 -2\n",
      "✅ Test passed for input: [2, 3, 1, 1, 4]\t, jumps: 2\n",
      "-3 -2\n",
      "✅ Test passed for input: [2, 3, 0, 1, 4]\t, jumps: 2\n",
      "-3 -2\n",
      "✅ Test passed for input: [2, 4, 2, 0, 1, 7]\t, jumps: 2\n",
      "-3 -2\n",
      "-5 -4\n",
      "✅ Test passed for input: [3, 0, 4, 1, 1, 6]\t, jumps: 3\n",
      "✅ Test passed for input: [1, 2]\t, jumps: 1\n",
      "❌ Test failed for input: [1, 2, 3].\n",
      "Expected: 2, got: 1\n"
     ]
    }
   ],
   "source": [
    "from typing import List\n",
    "\n",
    "class Solution:\n",
    "    def canJump(self, nums: List[int]) -> bool:\n",
    "        if len(nums) == 0: return False\n",
    "        remain_step = nums[0]\n",
    "        for num in nums[1:]:\n",
    "            remain_step -= 1\n",
    "            if remain_step < 0:\n",
    "                return False\n",
    "            remain_step = max(num,remain_step)\n",
    "        return True\n",
    "\n",
    "    def jump(self, nums: List[int]) -> int:\n",
    "        # Space: O(1)\n",
    "        # Time: O(n^2) -> too slow\n",
    "        # def canJump(nums: List[int]) -> bool:\n",
    "        #     if len(nums) == 0: return False\n",
    "        #     remain_step = nums[0]\n",
    "        #     for num in nums[1:]:\n",
    "        #         remain_step -= 1\n",
    "        #         if remain_step < 0:\n",
    "        #             return False\n",
    "        #         remain_step = max(num,remain_step)\n",
    "        #     return True\n",
    "        # all_posible_steps = [\n",
    "        #     1 + self.jump(nums[i:]) \n",
    "        #     for i in range(1, nums[0]+1) \n",
    "        #     if canJump(nums[i:])\n",
    "        # ]\n",
    "        # # print(all_posible_steps)\n",
    "        # if len(all_posible_steps) == 0: return 0\n",
    "        # return min(all_posible_steps)\n",
    "        \n",
    "        # Space: O(1)\n",
    "        # Time: O(n)\n",
    "        if len(nums) < 2: return 0\n",
    "            \n",
    "        jump_count = 1;\n",
    "        j = -1\n",
    "        for i in range(-2, -len(nums), -1):\n",
    "            if nums[i] < j - i:\n",
    "                jump_count += 1\n",
    "                j = i + 1\n",
    "                print(i, j)\n",
    "        return jump_count\n",
    "        \n",
    "\n",
    "# Test\n",
    "# Test cases\n",
    "test_cases = [\n",
    "    ([2,3,1,1,4], 2),\n",
    "    ([2,3,0,1,4], 2),\n",
    "    ([2,4,2,0,1,7], 2),\n",
    "    ([3,0,4,1,1,6], 3),\n",
    "    ([1,2], 1),\n",
    "    ([1,2,3], 2),\n",
    "]\n",
    "\n",
    "# Testing logic\n",
    "solution = Solution()\n",
    "for inputs, expected_output in test_cases:\n",
    "    output = solution.jump(inputs)\n",
    "    if output == expected_output:\n",
    "        print(f\"✅ Test passed for input: {inputs}\\t, jumps: {output}\")\n",
    "    else:\n",
    "        print(\n",
    "            f\"❌ Test failed for input: {inputs}.\\n\"\n",
    "            f\"Expected: {expected_output}, got: {output}\"\n",
    "        )"
   ]
  },
  {
   "cell_type": "code",
   "execution_count": 27,
   "id": "36a3500c-6660-46b5-8494-02d97eee793b",
   "metadata": {},
   "outputs": [
    {
     "data": {
      "text/plain": [
       "[-2]"
      ]
     },
     "execution_count": 27,
     "metadata": {},
     "output_type": "execute_result"
    }
   ],
   "source": [
    "[i for i in range(-2, -3, -1)]"
   ]
  },
  {
   "cell_type": "code",
   "execution_count": 4,
   "id": "35ffad97-12e6-45ad-857f-ac19df859d1d",
   "metadata": {
    "scrolled": true
   },
   "outputs": [
    {
     "data": {
      "text/plain": [
       "9"
      ]
     },
     "execution_count": 4,
     "metadata": {},
     "output_type": "execute_result"
    }
   ],
   "source": [
    "solution.jump([5,6,4,4,6,9,4,4,7,4,4,8,2,6,8,1,5,9,6,5,2,7,9,7,9,6,9,4,1,6,8,8,4,4,2,0,3,8,5])"
   ]
  },
  {
   "cell_type": "code",
   "execution_count": 7,
   "id": "7581b8c2-c1f4-40b6-a4f1-144d0caefbdf",
   "metadata": {},
   "outputs": [
    {
     "data": {
      "text/plain": [
       "[-2]"
      ]
     },
     "execution_count": 7,
     "metadata": {},
     "output_type": "execute_result"
    }
   ],
   "source": [
    "[i for i in range(-2, -2-1, -1)]"
   ]
  },
  {
   "cell_type": "code",
   "execution_count": 31,
   "id": "619a1a9f-62e9-42f9-9dfb-33343a21086a",
   "metadata": {},
   "outputs": [
    {
     "data": {
      "text/plain": [
       "2"
      ]
     },
     "execution_count": 31,
     "metadata": {},
     "output_type": "execute_result"
    }
   ],
   "source": [
    "[1,2,3][-2]"
   ]
  },
  {
   "cell_type": "code",
   "execution_count": 15,
   "id": "02a29fd4-8068-4a59-932e-1c9959717b64",
   "metadata": {},
   "outputs": [
    {
     "data": {
      "text/plain": [
       "[1, 2]"
      ]
     },
     "execution_count": 15,
     "metadata": {},
     "output_type": "execute_result"
    }
   ],
   "source": [
    "[ i for i in range(1,3)]"
   ]
  }
 ],
 "metadata": {
  "kernelspec": {
   "display_name": "Python 3 (ipykernel)",
   "language": "python",
   "name": "python3"
  },
  "language_info": {
   "codemirror_mode": {
    "name": "ipython",
    "version": 3
   },
   "file_extension": ".py",
   "mimetype": "text/x-python",
   "name": "python",
   "nbconvert_exporter": "python",
   "pygments_lexer": "ipython3",
   "version": "3.11.12"
  }
 },
 "nbformat": 4,
 "nbformat_minor": 5
}
