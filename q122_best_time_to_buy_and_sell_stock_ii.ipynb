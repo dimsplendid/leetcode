{
 "cells": [
  {
   "cell_type": "markdown",
   "id": "4cdddc90-dfb5-4367-8fa5-3ddfb20cad73",
   "metadata": {},
   "source": [
    "---\n",
    "\n",
    "level: Medium\n",
    "\n",
    "---\n",
    "\n",
    "# Best Time to Buy and Sell Stock II\n",
    "\n",
    "You are given an array `price` where `prices[i]` is the price of a given stock on the `i-th` day.\n",
    "\n",
    "On each day, you may decide to buy and/or sell the stock. You can only hold **at most one** share of the stock at any time. However, you can buy it then immediately sell it on the **same day**.\n",
    "\n",
    "Find and return the _**maximum** profit you can achieve_.\n",
    "\n",
    " \n",
    "## Examples\n",
    "\n",
    "**Example 1:**\n",
    "\n",
    "Input: `prices = [7,1,5,3,6,4]`  \n",
    "Output: `7`  \n",
    "Explanation: Buy on day 2 (price = 1) and sell on day 3 (price = 5), profit = 5-1 = 4.\n",
    "Then buy on day 4 (price = 3) and sell on day 5 (price = 6), profit = 6-3 = 3.\n",
    "Total profit is 4 + 3 = 7.\n",
    "\n",
    "**Example 2:**\n",
    "\n",
    "Input: `prices = [1,2,3,4,5]`  \n",
    "Output: `4`  \n",
    "Explanation: Buy on day 1 (price = 1) and sell on day 5 (price = 5), profit = 5-1 = 4.\n",
    "Total profit is 4.  \n",
    "\n",
    "**Example 3:**\n",
    "\n",
    "Input: `prices = [7,6,4,3,1]`  \n",
    "Output: `0`  \n",
    "Explanation: There is no way to make a positive profit, so we never buy the stock to achieve the maximum profit of 0.\n",
    "\n",
    "## Constraints:\n",
    "\n",
    "$$\n",
    "\\begin{align}\n",
    "1 &\\le \\texttt{prices.length} \\le 3 \\times 10^4 \\\\\n",
    "0 &\\le \\texttt{prices[i]} \\le 10^4 \\\\\n",
    "\\end{align}\n",
    "$$"
   ]
  },
  {
   "cell_type": "code",
   "execution_count": 6,
   "id": "6def7104-15f0-40e0-b85a-c627881176a4",
   "metadata": {},
   "outputs": [
    {
     "name": "stdout",
     "output_type": "stream",
     "text": [
      "✅ Test passed for input: [7, 1, 5, 3, 6, 4]\n",
      "✅ Test passed for input: [1, 2, 3, 4, 5]\n",
      "✅ Test passed for input: [7, 6, 4, 3, 1]\n"
     ]
    }
   ],
   "source": [
    "from typing import List\n",
    "\n",
    "class Solution:\n",
    "    def maxProfit(self, prices: List[int]) -> int:\n",
    "        # Space: O(1), Time: O(n)\n",
    "        diff_prices = [prices[i] - prices[i-1] for i in range(1, len(prices))]\n",
    "        max_profit = sum([profit for profit in diff_prices if profit > 0])\n",
    "\n",
    "        return max_profit\n",
    "            \n",
    "\n",
    "# Test\n",
    "# Test cases\n",
    "test_cases = [\n",
    "    ([7,1,5,3,6,4], 7),\n",
    "    ([1,2,3,4,5], 4),\n",
    "    ([7,6,4,3,1], 0),\n",
    "]\n",
    "\n",
    "# Testing logic\n",
    "solution = Solution()\n",
    "for inputs, expected_output in test_cases:\n",
    "    output = solution.maxProfit(inputs)\n",
    "    if output == expected_output:\n",
    "        print(f\"✅ Test passed for input: {inputs}\")\n",
    "    else:\n",
    "        print(\n",
    "            f\"❌ Test failed for input: {inputs}.\\n\"\n",
    "            f\"Expected: {expected_output}, got: {output}\"\n",
    "        )"
   ]
  },
  {
   "cell_type": "code",
   "execution_count": null,
   "id": "36a3500c-6660-46b5-8494-02d97eee793b",
   "metadata": {},
   "outputs": [],
   "source": []
  }
 ],
 "metadata": {
  "kernelspec": {
   "display_name": "Python 3 (ipykernel)",
   "language": "python",
   "name": "python3"
  },
  "language_info": {
   "codemirror_mode": {
    "name": "ipython",
    "version": 3
   },
   "file_extension": ".py",
   "mimetype": "text/x-python",
   "name": "python",
   "nbconvert_exporter": "python",
   "pygments_lexer": "ipython3",
   "version": "3.11.12"
  }
 },
 "nbformat": 4,
 "nbformat_minor": 5
}
