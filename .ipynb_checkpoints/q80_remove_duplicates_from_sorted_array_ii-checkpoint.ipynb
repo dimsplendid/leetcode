{
 "cells": [
  {
   "cell_type": "markdown",
   "id": "b36f00cf-4846-4079-8d2f-a8403141ae44",
   "metadata": {},
   "source": [
    "# Remove Duplicates from Sorted Array\n",
    "\n",
    "Given an integer array `nums` sorted in **non-decreasing order**, remove the duplicates [**in-place**](https://en.wikipedia.org/wiki/In-place_algorithm) such that each unique element appears only **once**. The **relative order** of the elements should be kept the **same**. Then return _the number of unique elements in_ `nums`.\n",
    "\n",
    "Consider the number of unique elements of `nums` to be `k`, to get accepted, you need to do the following things:\n",
    "\n",
    "- Change the array `nums` such that the first `k` elements of `nums` contain the unique elements in the order they were present in `nums` initially. The remaining elements of `nums` are not important as well as the size of `nums`.\n",
    "- Return `k`.\n",
    "\n",
    "**Custom Judge:**\n",
    "\n",
    "The judge will test your solution with the following code:\n",
    "```C\n",
    "int[] nums = [...]; // Input array\n",
    "int[] expectedNums = [...]; // The expected answer with correct length\n",
    "\n",
    "int k = removeDuplicates(nums); // Calls your implementation\n",
    "\n",
    "assert k == expectedNums.length;\n",
    "for (int i = 0; i < k; i++) {\n",
    "    assert nums[i] == expectedNums[i];\n",
    "}\n",
    "```\n",
    "If all assertions pass, then your solution will be **accepted**.\n",
    "\n",
    "**Example 1:**\n",
    "\n",
    "**Input:** `nums = [1,1,2]`\n",
    "**Output:** `2, nums = [1,2,_]`\n",
    "**Explanation:** Your function should return k = 2, with the first two elements of nums being 1 and 2 respectively.\n",
    "It does not matter what you leave beyond the returned k (hence they are underscores).\n",
    "\n",
    "**Example 2:**\n",
    "\n",
    "**Input:** `nums = [0,0,1,1,1,2,2,3,3,4]`\n",
    "**Output:** `5, nums = [0,1,2,3,4,_,_,_,_,_]`\n",
    "**Explanation:** Your function should return k = 5, with the first five elements of nums being 0, 1, 2, 3, and 4 respectively.\n",
    "It does not matter what you leave beyond the returned k (hence they are underscores).\n",
    "\n",
    "**Constraints:**\n",
    "\n",
    "- `1 <= nums.length <= 3 * 104`\n",
    "- `-100 <= nums[i] <= 100`\n",
    "- `nums` is sorted in **non-decreasing** order."
   ]
  },
  {
   "cell_type": "markdown",
   "id": "674aeef7-8735-4cf1-a8a0-f55cd0c93d13",
   "metadata": {},
   "source": [
    "## Program"
   ]
  },
  {
   "cell_type": "code",
   "execution_count": 45,
   "id": "8b4ae1d9-8103-45fc-9360-70086c1120d1",
   "metadata": {},
   "outputs": [],
   "source": [
    "import math\n",
    "\n",
    "# Solution code\n",
    "class Solution:\n",
    "    def removeDuplicates(self, nums):\n",
    "        curr = math.nan\n",
    "        idx = 0\n",
    "        k = len(nums)\n",
    "        while idx < k:\n",
    "            if curr == nums[idx]:\n",
    "                nums.remove(curr)\n",
    "                k -= 1\n",
    "            else:\n",
    "                curr = nums[idx]\n",
    "                idx += 1\n",
    "        return k"
   ]
  },
  {
   "cell_type": "markdown",
   "id": "2863bc72-ca44-4d7a-a245-f760484ffacd",
   "metadata": {},
   "source": [
    "## test case"
   ]
  },
  {
   "cell_type": "code",
   "execution_count": 46,
   "id": "f4f0d38b-0a88-4ba0-b7c2-53e3ce1fa7a8",
   "metadata": {},
   "outputs": [
    {
     "name": "stdout",
     "output_type": "stream",
     "text": [
      "✅ Test passed for input: [[1, 2]]\n",
      "✅ Test passed for input: [[0, 1, 2, 3, 4]]\n"
     ]
    }
   ],
   "source": [
    "# Test cases\n",
    "test_cases = [\n",
    "    ([[1,1,2]], [1,2]),\n",
    "    ([[0,0,1,1,1,2,2,3,3,4]], [0,1,2,3,4]),\n",
    "]\n",
    "\n",
    "# Testing logic\n",
    "solution = Solution()\n",
    "for inputs, expected_output in test_cases:\n",
    "    solution.removeDuplicates(*inputs)\n",
    "    output = inputs[0]\n",
    "    if output == expected_output:\n",
    "        print(f\"✅ Test passed for input: {inputs}\")\n",
    "    else:\n",
    "        print(f\"❌ Test failed for input: {inputs}.\\n    Expected: {expected_output}, got: {output}\")"
   ]
  },
  {
   "cell_type": "code",
   "execution_count": 40,
   "id": "ef0a76cd-bc92-43d3-a84c-36d4c238034a",
   "metadata": {},
   "outputs": [
    {
     "name": "stdout",
     "output_type": "stream",
     "text": [
      "0 nan 0\n",
      "1 0 0\n",
      "\t 1 0\n",
      "1 0 1\n",
      "2 1 1\n",
      "\t 2 1\n",
      "2 1 1\n",
      "\t 2 1\n",
      "2 1 2\n",
      "3 2 2\n",
      "\t 3 2\n",
      "3 2 3\n",
      "4 3 3\n",
      "\t 4 3\n",
      "4 3 4\n"
     ]
    }
   ],
   "source": [
    "x = [0,0,1,1,1,2,2,3,3,4]\n",
    "\n",
    "curr = math.nan\n",
    "idx = 0\n",
    "k = len(x)\n",
    "while idx < k:\n",
    "    if curr == x[idx]:\n",
    "        x.remove(curr)\n",
    "        k -= 1\n",
    "    else:\n",
    "        curr = x[idx]\n",
    "        idx += 1\n",
    "    "
   ]
  },
  {
   "cell_type": "code",
   "execution_count": 41,
   "id": "2b96e68c-3e58-4967-a951-99509ccc997d",
   "metadata": {},
   "outputs": [
    {
     "data": {
      "text/plain": [
       "[0, 1, 2, 3, 4]"
      ]
     },
     "execution_count": 41,
     "metadata": {},
     "output_type": "execute_result"
    }
   ],
   "source": [
    "x"
   ]
  },
  {
   "cell_type": "code",
   "execution_count": 34,
   "id": "fd8cf2f4-fc79-447a-9ed7-49e2cd4069e3",
   "metadata": {},
   "outputs": [
    {
     "data": {
      "text/plain": [
       "3"
      ]
     },
     "execution_count": 34,
     "metadata": {},
     "output_type": "execute_result"
    }
   ],
   "source": [
    "curr"
   ]
  }
 ],
 "metadata": {
  "kernelspec": {
   "display_name": "Python 3 (ipykernel)",
   "language": "python",
   "name": "python3"
  },
  "language_info": {
   "codemirror_mode": {
    "name": "ipython",
    "version": 3
   },
   "file_extension": ".py",
   "mimetype": "text/x-python",
   "name": "python",
   "nbconvert_exporter": "python",
   "pygments_lexer": "ipython3",
   "version": "3.11.11"
  }
 },
 "nbformat": 4,
 "nbformat_minor": 5
}
