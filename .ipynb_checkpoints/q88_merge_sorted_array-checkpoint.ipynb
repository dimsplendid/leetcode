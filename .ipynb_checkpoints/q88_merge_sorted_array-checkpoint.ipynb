{
 "cells": [
  {
   "cell_type": "markdown",
   "id": "b36f00cf-4846-4079-8d2f-a8403141ae44",
   "metadata": {},
   "source": [
    "# Merge Sorted Array\n",
    "\n",
    "You are given two integer arrays nums1 and nums2, sorted in non-decreasing order, and two integers m and n, representing the number of elements in nums1 and nums2 respectively.\n",
    "\n",
    "Merge nums1 and nums2 into a single array sorted in non-decreasing order.\n",
    "\n",
    "The final sorted array should not be returned by the function, but instead be stored inside the array nums1. To accommodate this, nums1 has a length of m + n, where the first m elements denote the elements that should be merged, and the last n elements are set to 0 and should be ignored. nums2 has a length of n.\n",
    "\n",
    " \n",
    "\n",
    "Example 1:\n",
    "\n",
    "Input: `nums1 = [1,2,3,0,0,0], m = 3, nums2 = [2,5,6], n = 3`\n",
    "Output: `[1,2,2,3,5,6]`\n",
    "Explanation: The arrays we are merging are `[1,2,3]` and `[2,5,6]`.\n",
    "The result of the merge is `[1,2,2,3,5,6]` with the underlined elements coming from nums1.\n",
    "Example 2:\n",
    "\n",
    "Input: `nums1 = [1], m = 1, nums2 = [], n = 0`\n",
    "Output: `[1]`\n",
    "Explanation: The arrays we are merging are `[1]` and `[]`.\n",
    "The result of the merge is `[1]`.\n",
    "Example 3:\n",
    "\n",
    "Input: nums1 = `[0], m = 0, nums2 = [1], n = 1`\n",
    "Output: `[1]`\n",
    "Explanation: The arrays we are merging are `[]` and `[1]`.\n",
    "The result of the merge is `[1]`.\n",
    "Note that because m = 0, there are no elements in nums1. The 0 is only there to ensure the merge result can fit in nums1.\n",
    " \n",
    "\n",
    "Constraints:\n",
    "```\n",
    "nums1.length == m + n\n",
    "nums2.length == n\n",
    "0 <= m, n <= 200\n",
    "1 <= m + n <= 200\n",
    "-109 <= nums1[i], nums2[j] <= 109\n",
    " ```\n",
    "\n",
    "Follow up: Can you come up with an algorithm that runs in O(m + n) time?"
   ]
  },
  {
   "cell_type": "markdown",
   "id": "674aeef7-8735-4cf1-a8a0-f55cd0c93d13",
   "metadata": {},
   "source": [
    "## Program"
   ]
  },
  {
   "cell_type": "code",
   "execution_count": 3,
   "id": "8b4ae1d9-8103-45fc-9360-70086c1120d1",
   "metadata": {},
   "outputs": [],
   "source": [
    "from typing import List\n",
    "\n",
    "# Solution code\n",
    "class Solution:\n",
    "    def Merge(self, nums1: List[int], m: int, nums2: List[int], n: int) -> None:\n",
    "        \"\"\"\n",
    "        Do not return anything, modify nums1 in-place instead.\n",
    "        \"\"\""
   ]
  },
  {
   "cell_type": "markdown",
   "id": "2863bc72-ca44-4d7a-a245-f760484ffacd",
   "metadata": {},
   "source": [
    "## test case"
   ]
  },
  {
   "cell_type": "code",
   "execution_count": 9,
   "id": "f4f0d38b-0a88-4ba0-b7c2-53e3ce1fa7a8",
   "metadata": {},
   "outputs": [
    {
     "name": "stdout",
     "output_type": "stream",
     "text": [
      "❌ Test failed for input: [[1, 2, 3, 0, 0, 0], 3, [2, 5, 6], 3].\n",
      "    Expected: [1, 2, 2, 3, 5, 6], got: [1, 2, 3, 0, 0, 0]\n",
      "❌ Test failed for input: [[1, 2, 4, 5, 6, 0], 5, [3], 1].\n",
      "    Expected: [1, 2, 3, 4, 5, 6], got: [1, 2, 4, 5, 6, 0]\n"
     ]
    }
   ],
   "source": [
    "# Test cases\n",
    "test_cases = [\n",
    "    ([[1,2,3,0,0,0], 3, [2,5,6], 3], [1,2,2,3,5,6]),\n",
    "    ([[1,2,4,5,6,0], 5, [3], 1], [1,2,3,4,5,6]),\n",
    "]\n",
    "\n",
    "# Testing logic\n",
    "solution = Solution()\n",
    "for inputs, expected_output in test_cases:\n",
    "    solution.Merge(*inputs)\n",
    "    output = inputs[0]\n",
    "    if output == expected_output:\n",
    "        print(f\"✅ Test passed for input: {inputs}\")\n",
    "    else:\n",
    "        print(f\"❌ Test failed for input: {inputs}.\\n    Expected: {expected_output}, got: {output}\")"
   ]
  },
  {
   "cell_type": "code",
   "execution_count": null,
   "id": "ef0a76cd-bc92-43d3-a84c-36d4c238034a",
   "metadata": {},
   "outputs": [],
   "source": []
  }
 ],
 "metadata": {
  "kernelspec": {
   "display_name": "Python 3 (ipykernel)",
   "language": "python",
   "name": "python3"
  },
  "language_info": {
   "codemirror_mode": {
    "name": "ipython",
    "version": 3
   },
   "file_extension": ".py",
   "mimetype": "text/x-python",
   "name": "python",
   "nbconvert_exporter": "python",
   "pygments_lexer": "ipython3",
   "version": "3.11.11"
  }
 },
 "nbformat": 4,
 "nbformat_minor": 5
}
