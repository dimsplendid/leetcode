{
 "cells": [
  {
   "cell_type": "markdown",
   "id": "4cdddc90-dfb5-4367-8fa5-3ddfb20cad73",
   "metadata": {},
   "source": [
    "---\n",
    "\n",
    "level: Easy\n",
    "\n",
    "---\n",
    "\n",
    "# Best Time to Buy and Sell Stock\n",
    "\n",
    "You are given an array prices where `prices[i]` is the price of a given stock on the `i-th` day.\n",
    "\n",
    "You want to maximize your profit by choosing a **single day** to buy one stock and choosing a **different day in the future** to sell that stock.\n",
    "\n",
    "Return the maximum profit you can achieve from this transaction. If you cannot achieve any profit, return `0`.\n",
    "\n",
    " \n",
    "## Examples\n",
    "\n",
    "**Example 1:**\n",
    "\n",
    "Input: `prices = [7,1,5,3,6,4]`  \n",
    "Output: `5`  \n",
    "Explanation: Buy on day 2 (price = 1) and sell on day 5 (price = 6), profit = 6-1 = 5.\n",
    "Note that buying on day 2 and selling on day 1 is not allowed because you must buy before you sell.\n",
    "\n",
    "**Example 2:**\n",
    "\n",
    "Input: `prices = [7,6,4,3,1]`  \n",
    "Output: `0`  \n",
    "Explanation: In this case, no transactions are done and the max profit = 0.  \n",
    " \n",
    "\n",
    "## Constraints:\n",
    "\n",
    "$$\n",
    "\\begin{align}\n",
    "1 &\\le \\texttt{prices.length} \\le 10^5 \\\\\n",
    "0 &\\le \\texttt{prices[i]} \\le 10^4 \\\\\n",
    "\\end{align}\n",
    "$$"
   ]
  },
  {
   "cell_type": "code",
   "execution_count": 1,
   "id": "6def7104-15f0-40e0-b85a-c627881176a4",
   "metadata": {},
   "outputs": [
    {
     "name": "stdout",
     "output_type": "stream",
     "text": [
      "❌ Test failed for input: [7, 1, 5, 3, 6, 4].\n",
      "Expected: 5, got: None\n",
      "❌ Test failed for input: [7, 6, 4, 3, 1].\n",
      "Expected: 0, got: None\n"
     ]
    }
   ],
   "source": [
    "from typing import List\n",
    "\n",
    "class Solution:\n",
    "    def maxProfit(self, prices: List[int]) -> int:\n",
    "        min_price, min_idx = prices[0], 0\n",
    "        max_price, max_idx = prices[0], 0\n",
    "        for idx, price in enumerate(prices):\n",
    "            ...\n",
    "            \n",
    "\n",
    "# Test\n",
    "# Test cases\n",
    "test_cases = [\n",
    "    ([7,1,5,3,6,4], 5),\n",
    "    ([7,6,4,3,1], 0),\n",
    "]\n",
    "\n",
    "# Testing logic\n",
    "solution = Solution()\n",
    "for inputs, expected_output in test_cases:\n",
    "    output = solution.maxProfit(inputs)\n",
    "    if output == expected_output:\n",
    "        print(f\"✅ Test passed for input: {inputs}\")\n",
    "    else:\n",
    "        print(\n",
    "            f\"❌ Test failed for input: {inputs}.\\n\"\n",
    "            f\"Expected: {expected_output}, got: {output}\"\n",
    "        )"
   ]
  }
 ],
 "metadata": {
  "kernelspec": {
   "display_name": "Python 3 (ipykernel)",
   "language": "python",
   "name": "python3"
  },
  "language_info": {
   "codemirror_mode": {
    "name": "ipython",
    "version": 3
   },
   "file_extension": ".py",
   "mimetype": "text/x-python",
   "name": "python",
   "nbconvert_exporter": "python",
   "pygments_lexer": "ipython3",
   "version": "3.11.12"
  }
 },
 "nbformat": 4,
 "nbformat_minor": 5
}
