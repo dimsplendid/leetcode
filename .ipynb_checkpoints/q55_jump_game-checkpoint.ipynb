{
 "cells": [
  {
   "cell_type": "markdown",
   "id": "4cdddc90-dfb5-4367-8fa5-3ddfb20cad73",
   "metadata": {},
   "source": [
    "---\n",
    "\n",
    "level: Medium\n",
    "\n",
    "---\n",
    "\n",
    "# Jump Game\n",
    "\n",
    "You are given an integer array `nums`. You are initially positioned at the array's **first index**, and each element in the array represents your maximum jump length at that position.\n",
    "\n",
    "Return `true` if you can reach the last index, _or_ `false` _otherwise_.\n",
    "\n",
    " \n",
    "## Examples\n",
    "\n",
    "**Example 1:**\n",
    "\n",
    "Input: `nums = [2,3,1,1,4]`  \n",
    "Output: `true`  \n",
    "Explanation: Jump 1 step from index 0 to 1, then 3 steps to the last index.\n",
    "\n",
    "**Example 2:**\n",
    "\n",
    "Input: `nums = [3,2,1,0,4]`  \n",
    "Output: `false`  \n",
    "Explanation: You will always arrive at index 3 no matter what. Its maximum jump length is 0, which makes it impossible to reach the last index.\n",
    "\n",
    "## Constraints:\n",
    "\n",
    "$$\n",
    "\\begin{align}\n",
    "1 &\\le \\texttt{nums.length} \\le 10^4 \\\\\n",
    "0 &\\le \\texttt{nums[i]} \\le 10^5 \\\\\n",
    "\\end{align}\n",
    "$$"
   ]
  },
  {
   "cell_type": "code",
   "execution_count": 32,
   "id": "6def7104-15f0-40e0-b85a-c627881176a4",
   "metadata": {},
   "outputs": [
    {
     "name": "stdout",
     "output_type": "stream",
     "text": [
      "✅ Test passed for input: [2, 3, 1, 1, 4]\n",
      "❌ Test failed for input: [3, 2, 1, 0, 4].\n",
      "Expected: False, got: True\n",
      "✅ Test passed for input: [1, 2, 3]\n",
      "✅ Test passed for input: [0, 2, 3]\n",
      "✅ Test passed for input: [0]\n"
     ]
    }
   ],
   "source": [
    "from typing import List\n",
    "\n",
    "class Solution:\n",
    "    def canJump(self, nums: List[int]) -> bool:\n",
    "        \n",
    "        # Space: O(1)\n",
    "        # Time: O(2^n) -> Too slow\n",
    "        # def can_jump_recurr(nums:List[int]) -> bool:\n",
    "        #     if len(nums) == 0: return True\n",
    "        #     if nums[0] >= len(nums): \n",
    "        #         return True\n",
    "        #     for i in range(1, len(nums)):\n",
    "        #         if (can_jump_recurr(nums[:i]) and can_jump_recurr(nums[i:])):\n",
    "        #             return True\n",
    "        #     return False\n",
    "            \n",
    "        # return can_jump_recurr(nums[:-1])\n",
    "\n",
    "        remain_step = nums[0]\n",
    "        for num in nums[1:]:\n",
    "            remain_step -= 1\n",
    "            if remain_step < 0:\n",
    "                return False\n",
    "            remain_step += num\n",
    "        return True\n",
    "            \n",
    "\n",
    "# Test\n",
    "# Test cases\n",
    "test_cases = [\n",
    "    ([2,3,1,1,4], True),\n",
    "    ([3,2,1,0,4], False),\n",
    "    ([1,2,3], True),\n",
    "    ([0,2,3], False),\n",
    "    ([0], True)\n",
    "]\n",
    "\n",
    "# Testing logic\n",
    "solution = Solution()\n",
    "for inputs, expected_output in test_cases:\n",
    "    output = solution.canJump(inputs)\n",
    "    if output == expected_output:\n",
    "        print(f\"✅ Test passed for input: {inputs}\")\n",
    "    else:\n",
    "        print(\n",
    "            f\"❌ Test failed for input: {inputs}.\\n\"\n",
    "            f\"Expected: {expected_output}, got: {output}\"\n",
    "        )"
   ]
  },
  {
   "cell_type": "code",
   "execution_count": 11,
   "id": "36a3500c-6660-46b5-8494-02d97eee793b",
   "metadata": {},
   "outputs": [
    {
     "data": {
      "text/plain": [
       "True"
      ]
     },
     "execution_count": 11,
     "metadata": {},
     "output_type": "execute_result"
    }
   ],
   "source": [
    "solution.canJump([1,2,3][1:]) and solution.canJump([1,2,3][:1])"
   ]
  },
  {
   "cell_type": "code",
   "execution_count": 12,
   "id": "35ffad97-12e6-45ad-857f-ac19df859d1d",
   "metadata": {},
   "outputs": [
    {
     "data": {
      "text/plain": [
       "False"
      ]
     },
     "execution_count": 12,
     "metadata": {},
     "output_type": "execute_result"
    }
   ],
   "source": [
    "solution.canJump([1,2,3])"
   ]
  },
  {
   "cell_type": "code",
   "execution_count": 14,
   "id": "7581b8c2-c1f4-40b6-a4f1-144d0caefbdf",
   "metadata": {},
   "outputs": [],
   "source": [
    "x = [1,2,3]"
   ]
  },
  {
   "cell_type": "code",
   "execution_count": 29,
   "id": "02a29fd4-8068-4a59-932e-1c9959717b64",
   "metadata": {},
   "outputs": [
    {
     "data": {
      "text/plain": [
       "[1, 2]"
      ]
     },
     "execution_count": 29,
     "metadata": {},
     "output_type": "execute_result"
    }
   ],
   "source": [
    "[1,2,3][:-1]"
   ]
  }
 ],
 "metadata": {
  "kernelspec": {
   "display_name": "Python 3 (ipykernel)",
   "language": "python",
   "name": "python3"
  },
  "language_info": {
   "codemirror_mode": {
    "name": "ipython",
    "version": 3
   },
   "file_extension": ".py",
   "mimetype": "text/x-python",
   "name": "python",
   "nbconvert_exporter": "python",
   "pygments_lexer": "ipython3",
   "version": "3.11.12"
  }
 },
 "nbformat": 4,
 "nbformat_minor": 5
}
