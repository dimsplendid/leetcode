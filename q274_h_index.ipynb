{
 "cells": [
  {
   "cell_type": "markdown",
   "id": "4cdddc90-dfb5-4367-8fa5-3ddfb20cad73",
   "metadata": {},
   "source": [
    "---\n",
    "\n",
    "level: Medium\n",
    "\n",
    "---\n",
    "\n",
    "# H-Index\n",
    "\n",
    "Given an array of integers `citations` where `citations[i]` is the number of citations a researcher received for their `i-th` paper, return the researcher's h-index.\n",
    "\n",
    "According to the [definition of h-index on Wikipedia](https://en.wikipedia.org/wiki/H-index): The h-index is defined as the maximum value of `h` such that the given researcher has published at least `h` papers that have each been cited at least `h` times.\n",
    "\n",
    " \n",
    "## Examples\n",
    "\n",
    "**Example 1:**\n",
    "\n",
    "Input: `citations = [3,0,6,1,5]`  \n",
    "Output: `3`  \n",
    "Explanation: `[3,0,6,1,5]` means the researcher has 5 papers in total and each of them had received `3, 0, 6, 1, 5` citations respectively.\n",
    "Since the researcher has 3 papers with at least 3 citations each and the remaining two with no more than 3 citations each, their h-index is 3.\n",
    "\n",
    "**Example 2:**\n",
    "\n",
    "Input: `citations = [1,3,1]`  \n",
    "Output: `1` \n",
    "\n",
    "## Constraints:\n",
    "\n",
    "- $1 \\le \\texttt{citaions.length} \\le 5000$\n",
    "- $0 \\le \\texttt{citaions[i]} \\le 1000$\n"
   ]
  },
  {
   "cell_type": "code",
   "execution_count": 28,
   "id": "6def7104-15f0-40e0-b85a-c627881176a4",
   "metadata": {},
   "outputs": [
    {
     "name": "stdout",
     "output_type": "stream",
     "text": [
      "✅ Test passed for input: [3, 0, 6, 1, 5]\t, H-Index: 3\n",
      "✅ Test passed for input: [1, 3, 1]\t, H-Index: 1\n",
      "✅ Test passed for input: [100]\t, H-Index: 1\n"
     ]
    }
   ],
   "source": [
    "from typing import List\n",
    "\n",
    "class Solution:\n",
    "    def hIndex(self, citations: List[int]) -> int:\n",
    "        # Space: O(n)\n",
    "        # Time: O(n^2)\n",
    "        h = 0\n",
    "        for citation in range(min(max(citations), len(citations))+1):\n",
    "            if citation <= len([i for i in citations if i >= citation]) and citation > h:\n",
    "                h = citation\n",
    "            \n",
    "        return h\n",
    "\n",
    "\n",
    "# Test\n",
    "# Test cases\n",
    "test_cases = [\n",
    "    ([3,0,6,1,5], 3),\n",
    "    ([1,3,1], 1),\n",
    "    ([100], 1),\n",
    "]\n",
    "\n",
    "# Testing logic\n",
    "solution = Solution()\n",
    "for inputs, expected_output in test_cases:\n",
    "    output = solution.hIndex(inputs)\n",
    "    if output == expected_output:\n",
    "        print(f\"✅ Test passed for input: {inputs}\\t, H-Index: {output}\")\n",
    "    else:\n",
    "        print(\n",
    "            f\"❌ Test failed for input: {inputs}.\\n\"\n",
    "            f\"Expected: {expected_output}, got: {output}\"\n",
    "        )"
   ]
  },
  {
   "cell_type": "code",
   "execution_count": 12,
   "id": "36a3500c-6660-46b5-8494-02d97eee793b",
   "metadata": {},
   "outputs": [
    {
     "data": {
      "text/plain": [
       "1"
      ]
     },
     "execution_count": 12,
     "metadata": {},
     "output_type": "execute_result"
    }
   ],
   "source": [
    "x = [1,2,3,4,5,6,5,3,4]\n",
    "x = list(set(x))\n",
    "x.sort(reverse=True)\n",
    "x.count(3)"
   ]
  },
  {
   "cell_type": "code",
   "execution_count": 27,
   "id": "abedb085-f615-443c-be09-dab0dda85393",
   "metadata": {},
   "outputs": [
    {
     "data": {
      "text/plain": [
       "0"
      ]
     },
     "execution_count": 27,
     "metadata": {},
     "output_type": "execute_result"
    }
   ],
   "source": [
    "solution.hIndex(inputs)"
   ]
  }
 ],
 "metadata": {
  "kernelspec": {
   "display_name": "Python 3 (ipykernel)",
   "language": "python",
   "name": "python3"
  },
  "language_info": {
   "codemirror_mode": {
    "name": "ipython",
    "version": 3
   },
   "file_extension": ".py",
   "mimetype": "text/x-python",
   "name": "python",
   "nbconvert_exporter": "python",
   "pygments_lexer": "ipython3",
   "version": "3.11.12"
  }
 },
 "nbformat": 4,
 "nbformat_minor": 5
}
