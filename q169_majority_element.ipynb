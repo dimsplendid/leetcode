{
 "cells": [
  {
   "cell_type": "markdown",
   "id": "142941cf-ecb4-4e18-83ff-06e57cb5c4f2",
   "metadata": {},
   "source": [
    "# Majority Element\n",
    "\n",
    "#easy\n",
    "\n",
    "Given an array nums of size n, return the majority element.\n",
    "\n",
    "The majority element is the element that appears more than ⌊n / 2⌋ times. You may assume that the majority element always exists in the array.\n",
    "\n",
    "## Examples\n",
    "\n",
    "### example 1:\n",
    "\n",
    "Input: nums = `[3,2,3]`  \n",
    "Output: `3`\n",
    "\n",
    "### example 2:\n",
    "\n",
    "Input: nums = `[2,2,1,1,1,2,2]`  \n",
    "Output: `2`\n",
    " \n",
    "## Constraints:\n",
    "```\n",
    "n == nums.length\n",
    "1 <= n <= 5 * 104\n",
    "-109 <= nums[i] <= 109\n",
    "```\n",
    "\n",
    "> [!Hint]\n",
    "> Follow-up: Could you solve the problem in linear time and in O(1) space?"
   ]
  },
  {
   "cell_type": "markdown",
   "id": "667bc4d8-24d4-4e62-ab33-addb2f185d2e",
   "metadata": {},
   "source": [
    "這次的問題相對簡單(easy 唄)，不過最佳解還是很有趣，\n",
    "先看我的解法："
   ]
  },
  {
   "cell_type": "code",
   "execution_count": null,
   "id": "5d1d9b3a-8674-4d27-9f5f-ff9d256cd1a7",
   "metadata": {},
   "outputs": [],
   "source": [
    "from typing import List\n",
    "\n",
    "class Solution:\n",
    "    def majorityElement(self, nums: List[int]) -> int:\n",
    "        majority_count = len(nums) / 2\n",
    "        for num in set(nums):\n",
    "            if len([x for x in nums if x == num]) > majority_count:\n",
    "                return num"
   ]
  },
  {
   "cell_type": "markdown",
   "id": "f48556fb-2a6a-49ac-bf72-434288aba75e",
   "metadata": {},
   "source": [
    "每次都新建新的 list 來比較長度，時間複雜度是 $O(n^2)$。但其實，案照順序排序的話，\n",
    "只要取第 n/2 個就是答案了！以 python 來說，內建的 sorted 為 $O(n \\log n)$ (再加上\n",
    "built-in 是 C 實作又更快了)"
   ]
  },
  {
   "cell_type": "code",
   "execution_count": null,
   "id": "43be8e64-1063-4367-9852-10dfb3ea8017",
   "metadata": {},
   "outputs": [],
   "source": [
    "class Solution:\n",
    "    def majorityElement(self, nums: List[int]) -> int:\n",
    "        return sorted(nums)[len(nums) // 2]"
   ]
  }
 ],
 "metadata": {
  "kernelspec": {
   "display_name": "Python 3 (ipykernel)",
   "language": "python",
   "name": "python3"
  },
  "language_info": {
   "codemirror_mode": {
    "name": "ipython",
    "version": 3
   },
   "file_extension": ".py",
   "mimetype": "text/x-python",
   "name": "python",
   "nbconvert_exporter": "python",
   "pygments_lexer": "ipython3",
   "version": "3.11.12"
  }
 },
 "nbformat": 4,
 "nbformat_minor": 5
}
