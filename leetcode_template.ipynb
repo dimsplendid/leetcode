{
 "cells": [
  {
   "cell_type": "markdown",
   "id": "b36f00cf-4846-4079-8d2f-a8403141ae44",
   "metadata": {},
   "source": [
    "# Problem\n",
    "\n",
    "desc."
   ]
  },
  {
   "cell_type": "markdown",
   "id": "674aeef7-8735-4cf1-a8a0-f55cd0c93d13",
   "metadata": {},
   "source": [
    "## Program"
   ]
  },
  {
   "cell_type": "code",
   "execution_count": 1,
   "id": "8b4ae1d9-8103-45fc-9360-70086c1120d1",
   "metadata": {},
   "outputs": [],
   "source": [
    "# Solution code\n",
    "class Solution:\n",
    "    def twoSum(self, nums, target):\n",
    "        num_map = {}\n",
    "        for i, num in enumerate(nums):\n",
    "            complement = target - num\n",
    "            if complement in num_map:\n",
    "                return [num_map[complement], i]\n",
    "            num_map[num] = i\n",
    "        return None\n",
    "\n"
   ]
  },
  {
   "cell_type": "markdown",
   "id": "2863bc72-ca44-4d7a-a245-f760484ffacd",
   "metadata": {},
   "source": [
    "## test case"
   ]
  },
  {
   "cell_type": "code",
   "execution_count": 4,
   "id": "f4f0d38b-0a88-4ba0-b7c2-53e3ce1fa7a8",
   "metadata": {},
   "outputs": [
    {
     "name": "stdout",
     "output_type": "stream",
     "text": [
      "Test passed for input: [[2, 7, 11, 15], 9]\n",
      "Test passed for input: [[3, 2, 4], 6]\n",
      "Test passed for input: [[3, 3], 6]\n"
     ]
    }
   ],
   "source": [
    "# Test cases\n",
    "test_cases = [\n",
    "    ([[2, 7, 11, 15], 9], [0, 1]),\n",
    "    ([[3, 2, 4], 6], [1, 2]),\n",
    "    ([[3, 3], 6], [0, 1]),\n",
    "]\n",
    "\n",
    "# Testing logic\n",
    "solution = Solution()\n",
    "for inputs, expected_output in test_cases:\n",
    "    solution.twoSum(*inputs)\n",
    "    output = inputs[0]\n",
    "    if output == expected_output:\n",
    "        print(f\"✅ Test passed for input: {inputs}\")\n",
    "    else:\n",
    "        print(f\"❌ Test failed for input: {inputs}.\\n    Expected: {expected_output}, got: {output}\")"
   ]
  },
  {
   "cell_type": "code",
   "execution_count": null,
   "id": "ef0a76cd-bc92-43d3-a84c-36d4c238034a",
   "metadata": {},
   "outputs": [],
   "source": []
  }
 ],
 "metadata": {
  "kernelspec": {
   "display_name": "Python 3 (ipykernel)",
   "language": "python",
   "name": "python3"
  },
  "language_info": {
   "codemirror_mode": {
    "name": "ipython",
    "version": 3
   },
   "file_extension": ".py",
   "mimetype": "text/x-python",
   "name": "python",
   "nbconvert_exporter": "python",
   "pygments_lexer": "ipython3",
   "version": "3.11.11"
  }
 },
 "nbformat": 4,
 "nbformat_minor": 5
}
